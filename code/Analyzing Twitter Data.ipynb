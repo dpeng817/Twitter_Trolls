{
 "cells": [
  {
   "cell_type": "markdown",
   "metadata": {},
   "source": [
    "# Twitter Trolls\n",
    "### Classifying and analyzing Russian Troll Tweets using Deep Learning\n",
    "#### by Christopher DeCarolis"
   ]
  },
  {
   "cell_type": "code",
   "execution_count": 46,
   "metadata": {},
   "outputs": [],
   "source": [
    "import numpy as np\n",
    "import pandas as pd\n",
    "import matplotlib.pyplot as plt\n",
    "import keras\n",
    "import re\n",
    "from keras.models import Sequential\n",
    "from keras.layers import Embedding, Flatten, Dense, Conv1D\n",
    "from keras.preprocessing.text import Tokenizer\n",
    "from nltk.tokenize import word_tokenize\n",
    "from sklearn.utils import shuffle\n",
    "from sklearn.model_selection import train_test_split"
   ]
  },
  {
   "cell_type": "markdown",
   "metadata": {},
   "source": [
    "## Data Pre-processing\n",
    "We have two different data sets to work with. The first is a set of Tweets scraped from Russian Troll accounts (link __[here](https://www.kaggle.com/vikasg/russian-troll-tweets)__), and the second is a set of tweets scraped from random accounts during election day (link __[here](https://www.kaggle.com/kinguistics/election-day-tweets)__). "
   ]
  },
  {
   "cell_type": "code",
   "execution_count": 3,
   "metadata": {},
   "outputs": [],
   "source": [
    "df_russian = pd.read_csv('~/datasets/russian-troll-tweets/tweets.csv')"
   ]
  },
  {
   "cell_type": "code",
   "execution_count": 4,
   "metadata": {
    "scrolled": true
   },
   "outputs": [
    {
     "name": "stdout",
     "output_type": "stream",
     "text": [
      "        user_id         user_key    created_at          created_str  \\\n",
      "1  2.571870e+09  detroitdailynew  1.476133e+12  2016-10-10 20:57:00   \n",
      "2  1.710805e+09       cookncooks  1.487767e+12  2017-02-22 12:43:43   \n",
      "3  2.584153e+09     queenofthewo  1.482765e+12  2016-12-26 15:06:41   \n",
      "4  1.768260e+09     mrclydepratt  1.501987e+12  2017-08-06 02:36:24   \n",
      "5  2.882014e+09      giselleevns  1.477496e+12  2016-10-26 15:33:58   \n",
      "6  1.658421e+09        baobaeham  1.488910e+12  2017-03-07 18:11:44   \n",
      "7  2.587101e+09   judelambertusa  1.483102e+12  2016-12-30 12:49:30   \n",
      "8  1.679279e+09    ameliebaldwin  1.477792e+12  2016-10-30 01:48:19   \n",
      "9  1.649488e+09        hiimkhloe  1.458155e+12  2016-03-16 19:07:39   \n",
      "\n",
      "   retweet_count retweeted  favorite_count  \\\n",
      "1            0.0     False             0.0   \n",
      "2            NaN       NaN             NaN   \n",
      "3            NaN       NaN             NaN   \n",
      "4            NaN       NaN             NaN   \n",
      "5            NaN       NaN             NaN   \n",
      "6            NaN       NaN             NaN   \n",
      "7            NaN       NaN             NaN   \n",
      "8            0.0     False             0.0   \n",
      "9            NaN       NaN             NaN   \n",
      "\n",
      "                                                text      tweet_id  \\\n",
      "1  Clinton: Trump should’ve apologized more, atta...  7.855849e+17   \n",
      "2  RT @ltapoll: Who was/is the best president of ...  8.343832e+17   \n",
      "3  RT @jww372: I don't have to guess your religio...  8.134006e+17   \n",
      "4  RT @Shareblue: Pence and his lawyers decided w...  8.940243e+17   \n",
      "5                             @ModicaGiunta me, too!  7.913019e+17   \n",
      "6  RT @MDBlanchfield: You’ll never guess who twee...  8.391768e+17   \n",
      "7  RT @100PercFEDUP: New post: WATCH: DIAMOND AND...  8.148157e+17   \n",
      "8  RT @AriaWilsonGOP: 3 Women Face Charges After ...  7.925436e+17   \n",
      "9  One of the ways to remind that #BlackLivesMatt...  7.101807e+17   \n",
      "\n",
      "                                              source                hashtags  \\\n",
      "1  <a href=\"http://twitterfeed.com\" rel=\"nofollow...                      []   \n",
      "2                                                NaN                      []   \n",
      "3                                                NaN  [\"ChristmasAftermath\"]   \n",
      "4                                                NaN                      []   \n",
      "5                                                NaN                      []   \n",
      "6                                                NaN                      []   \n",
      "7                                                NaN                      []   \n",
      "8  <a href=\"http://twitter.com\" rel=\"nofollow\">Tw...                      []   \n",
      "9                                                NaN    [\"Blacklivesmatter\"]   \n",
      "\n",
      "                          expanded_urls  posted           mentions  \\\n",
      "1           [\"http://detne.ws/2e172jF\"]  POSTED                 []   \n",
      "2                                    []  POSTED                 []   \n",
      "3                                    []  POSTED                 []   \n",
      "4                                    []  POSTED                 []   \n",
      "5                                    []  POSTED                 []   \n",
      "6                                    []  POSTED                 []   \n",
      "7                                    []  POSTED                 []   \n",
      "8  [\"http://www.Feed24hNews.com/4MzaL\"]  POSTED  [\"ariawilsongop\"]   \n",
      "9                                    []  POSTED                 []   \n",
      "\n",
      "   retweeted_status_id  in_reply_to_status_id  \n",
      "1                  NaN                    NaN  \n",
      "2                  NaN                    NaN  \n",
      "3                  NaN                    NaN  \n",
      "4                  NaN                    NaN  \n",
      "5                  NaN                    NaN  \n",
      "6                  NaN                    NaN  \n",
      "7                  NaN                    NaN  \n",
      "8         7.925391e+17                    NaN  \n",
      "9                  NaN                    NaN  \n"
     ]
    }
   ],
   "source": [
    "print(df_russian[1:10])"
   ]
  },
  {
   "cell_type": "code",
   "execution_count": 5,
   "metadata": {},
   "outputs": [],
   "source": [
    "df_election = pd.read_csv('~/datasets/election-day-tweets/election_day_tweets.csv')"
   ]
  },
  {
   "cell_type": "code",
   "execution_count": 6,
   "metadata": {},
   "outputs": [
    {
     "name": "stdout",
     "output_type": "stream",
     "text": [
      "                                                text           created_at  \\\n",
      "1  My @latimesopinion op-ed on historic #Californ...  2016-11-08 04:08:10   \n",
      "2  #Senate Wisconsin Senate Preview: Johnson vs. ...  2016-11-08 04:11:35   \n",
      "3  If Rubio Wins and #Trump Loses in #Florida... ...  2016-11-08 04:12:16   \n",
      "4  #Senate Wisconsin Senate Preview: Johnson vs. ...  2016-11-08 04:16:20   \n",
      "5  bob day is an \"honest  person \"  #senate patte...  2016-11-08 04:18:55   \n",
      "6  Make Republicans #PayAPrice!\\n 💙🇺🇸#VoteBLUE🔃th...  2016-11-08 04:20:09   \n",
      "7  She's done America!! Please vote for @realDona...  2016-11-08 04:20:43   \n",
      "8  #Illinois #Senate #StrongerTogether https://t....  2016-11-08 04:26:36   \n",
      "9  #Senate Sen. Mark Warner to speak at ODU for V...  2016-11-08 04:41:04   \n",
      "\n",
      "   geo lang place coordinates  user.favourites_count  user.statuses_count  \\\n",
      "1  NaN   en   NaN         NaN                      8                 4841   \n",
      "2  NaN   en   NaN         NaN                    728               160390   \n",
      "3  NaN   en   NaN         NaN                      0                18105   \n",
      "4  NaN   en   NaN         NaN                   4722               247322   \n",
      "5  NaN   en   NaN         NaN                  15171               366147   \n",
      "6  NaN   en   NaN         NaN                  29850                30278   \n",
      "7  NaN   en   NaN         NaN                    389                  299   \n",
      "8  NaN  und   NaN         NaN                    464                 4282   \n",
      "9  NaN   en   NaN         NaN                    728               160390   \n",
      "\n",
      "                                    user.description  \\\n",
      "1  Hoover Institution research fellow; https://t....   \n",
      "2  US SENATE NEWS FEED.  The U.S. Senate is the w...   \n",
      "3  The most trending Marco Rubio news as collecte...   \n",
      "4  News & #ALERTS. We are a large group of proud ...   \n",
      "5  jazz trumpet ,fluglehorn , biker ,barrister, A...   \n",
      "6                                        Born to Fly   \n",
      "7                                                NaN   \n",
      "8  An advocate for high quality of life and equal...   \n",
      "9  US SENATE NEWS FEED.  The U.S. Senate is the w...   \n",
      "\n",
      "                   user.location      ...        user.geo_enabled  \\\n",
      "1          Palo Alto, California      ...                    True   \n",
      "2                            USA      ...                   False   \n",
      "3                  Washington DC      ...                   False   \n",
      "4  24hr Live HD Stream Broadcast      ...                   False   \n",
      "5         Mirboo North, Victoria      ...                    True   \n",
      "6                             FL      ...                   False   \n",
      "7                   Georgia, USA      ...                   False   \n",
      "8                    Chicago, IL      ...                    True   \n",
      "9                            USA      ...                   False   \n",
      "\n",
      "  user.profile_background_color  \\\n",
      "1                        C0DEED   \n",
      "2                        473969   \n",
      "3                        C0DEED   \n",
      "4                        1B95E0   \n",
      "5                        9AE4E8   \n",
      "6                        F5F8FA   \n",
      "7                        352726   \n",
      "8                        E2B9ED   \n",
      "9                        473969   \n",
      "\n",
      "                              user.profile_image_url  \\\n",
      "1  http://pbs.twimg.com/profile_images/6514470051...   \n",
      "2  http://pbs.twimg.com/profile_images/6155877017...   \n",
      "3  http://pbs.twimg.com/profile_images/5890065307...   \n",
      "4  http://pbs.twimg.com/profile_images/7971276617...   \n",
      "5  http://pbs.twimg.com/profile_images/6690303705...   \n",
      "6  http://pbs.twimg.com/profile_images/7236248390...   \n",
      "7  http://pbs.twimg.com/profile_images/7928972552...   \n",
      "8  http://pbs.twimg.com/profile_images/1060357758...   \n",
      "9  http://pbs.twimg.com/profile_images/6155877017...   \n",
      "\n",
      "               user.time_zone                  id  favorite_count  retweeted  \\\n",
      "1  Pacific Time (US & Canada)  795840310597193728               3      False   \n",
      "2                      Alaska  795841168621719552               0      False   \n",
      "3                         NaN  795841341146234880               0      False   \n",
      "4  Eastern Time (US & Canada)  795842365881782272               0      False   \n",
      "5                   Melbourne  795843014954348544               1      False   \n",
      "6                         NaN  795843326192783360               1      False   \n",
      "7  Eastern Time (US & Canada)  795843467352084480               0      False   \n",
      "8  Central Time (US & Canada)  795844950072102916               0      False   \n",
      "9                      Alaska  795848590685978628               0      False   \n",
      "\n",
      "                        source  favorited  retweet_count  \n",
      "1           Twitter Web Client      False              4  \n",
      "2                      dlvr.it      False              0  \n",
      "3  Lead Stories Feed Publisher      False              0  \n",
      "4                        IFTTT      False              0  \n",
      "5           Twitter Web Client      False              0  \n",
      "6              Mobile Web (M5)      False              0  \n",
      "7           Twitter for iPhone      False              0  \n",
      "8           Twitter for iPhone      False              0  \n",
      "9                      dlvr.it      False              0  \n",
      "\n",
      "[9 rows x 34 columns]\n"
     ]
    }
   ],
   "source": [
    "print(df_election[1:10])"
   ]
  },
  {
   "cell_type": "markdown",
   "metadata": {},
   "source": [
    "Checking the first few rows of each dataset, we can see that they were properly imported in terms of format. Something important to note about the election dataset is that we technically have know way of knowing whether the data collected comes from legitimate accounts or note. It is possible (likely even) that some of the users in this dataset were actually troll accounts. However, as we have know way of definitively telling that, we will proceed under the assumption that the election day tweets dataset represents tweets from real individuals.\n",
    "Now we need to split the datasets into training and testing sets."
   ]
  },
  {
   "cell_type": "code",
   "execution_count": 7,
   "metadata": {},
   "outputs": [],
   "source": [
    "df_russian = shuffle(df_russian)\n",
    "df_election = shuffle(df_election)"
   ]
  },
  {
   "cell_type": "code",
   "execution_count": 8,
   "metadata": {},
   "outputs": [
    {
     "data": {
      "text/plain": [
       "\"Obama on Trump winning: 'Anything's possible' https://t.co/MjVMZ5TR8Y #politics\""
      ]
     },
     "execution_count": 8,
     "metadata": {},
     "output_type": "execute_result"
    }
   ],
   "source": [
    "df_russian.loc[20, 'text']"
   ]
  },
  {
   "cell_type": "markdown",
   "metadata": {},
   "source": [
    "__Text Cleaning__: Below we remove all hashtags and unnecessary filler from the text that would otherwise hinder classification. We also perform a train-test split on both datasets."
   ]
  },
  {
   "cell_type": "code",
   "execution_count": 9,
   "metadata": {},
   "outputs": [
    {
     "name": "stderr",
     "output_type": "stream",
     "text": [
      "/home/ubuntu/anaconda3/envs/tensorflow_p36/lib/python3.6/site-packages/ipykernel_launcher.py:8: FutureWarning: set_value is deprecated and will be removed in a future release. Please use .at[] or .iat[] accessors instead\n",
      "  \n"
     ]
    }
   ],
   "source": [
    "for r in range(0, df_russian.shape[0]):\n",
    "    if not isinstance(df_russian.loc[r, 'text'], str): continue\n",
    "    e = re.sub(\n",
    "        \"(@[A-Za-z0-9]+)|([^0-9A-Za-z \\t])|(\\w+:\\/\\/\\S+)|^rt|http.+?\", \n",
    "        '', \n",
    "        df_russian.loc[r, 'text'].lower()\n",
    "    )\n",
    "    df_russian.set_value(r, 'text', e)"
   ]
  },
  {
   "cell_type": "code",
   "execution_count": 10,
   "metadata": {},
   "outputs": [
    {
     "name": "stderr",
     "output_type": "stream",
     "text": [
      "/home/ubuntu/anaconda3/envs/tensorflow_p36/lib/python3.6/site-packages/ipykernel_launcher.py:8: FutureWarning: set_value is deprecated and will be removed in a future release. Please use .at[] or .iat[] accessors instead\n",
      "  \n"
     ]
    }
   ],
   "source": [
    "for r in range(0, df_election.shape[0]):\n",
    "    if not isinstance(df_election.loc[r, 'text'], str): continue\n",
    "    e = re.sub(\n",
    "        \"(@[A-Za-z0-9]+)|([^0-9A-Za-z \\t])|(\\w+:\\/\\/\\S+)|^rt|http.+?\", \n",
    "        '', \n",
    "        df_election.loc[r, 'text'].lower()\n",
    "    )\n",
    "    df_election.set_value(r, 'text', e)"
   ]
  },
  {
   "cell_type": "code",
   "execution_count": 11,
   "metadata": {},
   "outputs": [
    {
     "data": {
      "text/html": [
       "<div>\n",
       "<style scoped>\n",
       "    .dataframe tbody tr th:only-of-type {\n",
       "        vertical-align: middle;\n",
       "    }\n",
       "\n",
       "    .dataframe tbody tr th {\n",
       "        vertical-align: top;\n",
       "    }\n",
       "\n",
       "    .dataframe thead th {\n",
       "        text-align: right;\n",
       "    }\n",
       "</style>\n",
       "<table border=\"1\" class=\"dataframe\">\n",
       "  <thead>\n",
       "    <tr style=\"text-align: right;\">\n",
       "      <th></th>\n",
       "      <th>user_id</th>\n",
       "      <th>user_key</th>\n",
       "      <th>created_at</th>\n",
       "      <th>created_str</th>\n",
       "      <th>retweet_count</th>\n",
       "      <th>retweeted</th>\n",
       "      <th>favorite_count</th>\n",
       "      <th>text</th>\n",
       "      <th>tweet_id</th>\n",
       "      <th>source</th>\n",
       "      <th>hashtags</th>\n",
       "      <th>expanded_urls</th>\n",
       "      <th>posted</th>\n",
       "      <th>mentions</th>\n",
       "      <th>retweeted_status_id</th>\n",
       "      <th>in_reply_to_status_id</th>\n",
       "    </tr>\n",
       "  </thead>\n",
       "  <tbody>\n",
       "    <tr>\n",
       "      <th>73081</th>\n",
       "      <td>1.658421e+09</td>\n",
       "      <td>baobaeham</td>\n",
       "      <td>1.493807e+12</td>\n",
       "      <td>2017-05-03 10:26:23</td>\n",
       "      <td>NaN</td>\n",
       "      <td>NaN</td>\n",
       "      <td>NaN</td>\n",
       "      <td>hooray wfoods windmill wholefoods revamp is ...</td>\n",
       "      <td>8.597158e+17</td>\n",
       "      <td>NaN</td>\n",
       "      <td>[]</td>\n",
       "      <td>[]</td>\n",
       "      <td>POSTED</td>\n",
       "      <td>[]</td>\n",
       "      <td>NaN</td>\n",
       "      <td>NaN</td>\n",
       "    </tr>\n",
       "    <tr>\n",
       "      <th>202986</th>\n",
       "      <td>3.083087e+09</td>\n",
       "      <td>aldrich420</td>\n",
       "      <td>1.478644e+12</td>\n",
       "      <td>2016-11-08 22:34:01</td>\n",
       "      <td>0.0</td>\n",
       "      <td>False</td>\n",
       "      <td>0.0</td>\n",
       "      <td>maga make america great again  thanks  trumpf...</td>\n",
       "      <td>7.961186e+17</td>\n",
       "      <td>&lt;a href=\"http://twitter.com\" rel=\"nofollow\"&gt;Tw...</td>\n",
       "      <td>[\"maga\",\"TrumpForPresident\",\"maga\",\"TrumpForPr...</td>\n",
       "      <td>[]</td>\n",
       "      <td>POSTED</td>\n",
       "      <td>[\"realdonaldtrump\",\"psysamurai33317\"]</td>\n",
       "      <td>NaN</td>\n",
       "      <td>NaN</td>\n",
       "    </tr>\n",
       "    <tr>\n",
       "      <th>22104</th>\n",
       "      <td>7.506563e+17</td>\n",
       "      <td>klara_sauber</td>\n",
       "      <td>1.500302e+12</td>\n",
       "      <td>2017-07-17 14:27:55</td>\n",
       "      <td>NaN</td>\n",
       "      <td>NaN</td>\n",
       "      <td>NaN</td>\n",
       "      <td>merkel macht europa besser merkelserfolge  i...</td>\n",
       "      <td>8.869556e+17</td>\n",
       "      <td>NaN</td>\n",
       "      <td>[\"Merkel\"]</td>\n",
       "      <td>[]</td>\n",
       "      <td>POSTED</td>\n",
       "      <td>[]</td>\n",
       "      <td>8.869492e+17</td>\n",
       "      <td>NaN</td>\n",
       "    </tr>\n",
       "    <tr>\n",
       "      <th>145024</th>\n",
       "      <td>2.620870e+09</td>\n",
       "      <td>puredavie</td>\n",
       "      <td>1.481303e+12</td>\n",
       "      <td>2016-12-09 16:57:46</td>\n",
       "      <td>NaN</td>\n",
       "      <td>NaN</td>\n",
       "      <td>NaN</td>\n",
       "      <td>wake me up before you ho ho christmasapopsong</td>\n",
       "      <td>8.072680e+17</td>\n",
       "      <td>NaN</td>\n",
       "      <td>[]</td>\n",
       "      <td>[]</td>\n",
       "      <td>POSTED</td>\n",
       "      <td>[]</td>\n",
       "      <td>NaN</td>\n",
       "      <td>NaN</td>\n",
       "    </tr>\n",
       "    <tr>\n",
       "      <th>130617</th>\n",
       "      <td>1.657754e+09</td>\n",
       "      <td>johnbranchh</td>\n",
       "      <td>1.429742e+12</td>\n",
       "      <td>2015-04-22 22:38:15</td>\n",
       "      <td>NaN</td>\n",
       "      <td>NaN</td>\n",
       "      <td>NaN</td>\n",
       "      <td>news uva dean bashes rolling stone article i...</td>\n",
       "      <td>5.910081e+17</td>\n",
       "      <td>NaN</td>\n",
       "      <td>[\"news\"]</td>\n",
       "      <td>[]</td>\n",
       "      <td>POSTED</td>\n",
       "      <td>[]</td>\n",
       "      <td>NaN</td>\n",
       "      <td>NaN</td>\n",
       "    </tr>\n",
       "  </tbody>\n",
       "</table>\n",
       "</div>"
      ],
      "text/plain": [
       "             user_id      user_key    created_at          created_str  \\\n",
       "73081   1.658421e+09     baobaeham  1.493807e+12  2017-05-03 10:26:23   \n",
       "202986  3.083087e+09    aldrich420  1.478644e+12  2016-11-08 22:34:01   \n",
       "22104   7.506563e+17  klara_sauber  1.500302e+12  2017-07-17 14:27:55   \n",
       "145024  2.620870e+09     puredavie  1.481303e+12  2016-12-09 16:57:46   \n",
       "130617  1.657754e+09   johnbranchh  1.429742e+12  2015-04-22 22:38:15   \n",
       "\n",
       "        retweet_count retweeted  favorite_count  \\\n",
       "73081             NaN       NaN             NaN   \n",
       "202986            0.0     False             0.0   \n",
       "22104             NaN       NaN             NaN   \n",
       "145024            NaN       NaN             NaN   \n",
       "130617            NaN       NaN             NaN   \n",
       "\n",
       "                                                     text      tweet_id  \\\n",
       "73081     hooray wfoods windmill wholefoods revamp is ...  8.597158e+17   \n",
       "202986   maga make america great again  thanks  trumpf...  7.961186e+17   \n",
       "22104     merkel macht europa besser merkelserfolge  i...  8.869556e+17   \n",
       "145024      wake me up before you ho ho christmasapopsong  8.072680e+17   \n",
       "130617    news uva dean bashes rolling stone article i...  5.910081e+17   \n",
       "\n",
       "                                                   source  \\\n",
       "73081                                                 NaN   \n",
       "202986  <a href=\"http://twitter.com\" rel=\"nofollow\">Tw...   \n",
       "22104                                                 NaN   \n",
       "145024                                                NaN   \n",
       "130617                                                NaN   \n",
       "\n",
       "                                                 hashtags expanded_urls  \\\n",
       "73081                                                  []            []   \n",
       "202986  [\"maga\",\"TrumpForPresident\",\"maga\",\"TrumpForPr...            []   \n",
       "22104                                          [\"Merkel\"]            []   \n",
       "145024                                                 []            []   \n",
       "130617                                           [\"news\"]            []   \n",
       "\n",
       "        posted                               mentions  retweeted_status_id  \\\n",
       "73081   POSTED                                     []                  NaN   \n",
       "202986  POSTED  [\"realdonaldtrump\",\"psysamurai33317\"]                  NaN   \n",
       "22104   POSTED                                     []         8.869492e+17   \n",
       "145024  POSTED                                     []                  NaN   \n",
       "130617  POSTED                                     []                  NaN   \n",
       "\n",
       "        in_reply_to_status_id  \n",
       "73081                     NaN  \n",
       "202986                    NaN  \n",
       "22104                     NaN  \n",
       "145024                    NaN  \n",
       "130617                    NaN  "
      ]
     },
     "execution_count": 11,
     "metadata": {},
     "output_type": "execute_result"
    }
   ],
   "source": [
    "df_russian.head()"
   ]
  },
  {
   "cell_type": "code",
   "execution_count": 12,
   "metadata": {},
   "outputs": [],
   "source": [
    "train_russian_df, test_russian_df = train_test_split(df_russian.loc[:, 'text'], test_size=0.2)\n",
    "train_election_df, test_election_df = train_test_split(df_election.loc[:, 'text'], test_size=0.2)"
   ]
  },
  {
   "cell_type": "code",
   "execution_count": 33,
   "metadata": {},
   "outputs": [],
   "source": [
    "docs = []\n",
    "num_valid_russia = 0\n",
    "num_valid_election = 0\n",
    "for chunk in train_russian_df:\n",
    "    if isinstance(chunk, str): \n",
    "        num_valid_russia += 1\n",
    "        docs.append(chunk)\n",
    "for chunk in train_election_df:\n",
    "    if isinstance(chunk, str): \n",
    "        num_valid_election += 1\n",
    "        docs.append(chunk)"
   ]
  },
  {
   "cell_type": "code",
   "execution_count": 34,
   "metadata": {},
   "outputs": [],
   "source": [
    "vocab_size = 5000\n",
    "tokenize = Tokenizer(num_words=vocab_size)\n",
    "tokenize.fit_on_texts(docs)"
   ]
  },
  {
   "cell_type": "markdown",
   "metadata": {},
   "source": [
    "We have now created a bag of word vectors model that converts our words into embeddings. We now need to actually transform our data properly, as well as give it corresponding labels. Assume that a label of 0 for a tweet means that the tweet is a troll tweet, while a label of 1 for a tweet means that the tweet is a normal/nonmalicious tweet."
   ]
  },
  {
   "cell_type": "code",
   "execution_count": 35,
   "metadata": {},
   "outputs": [],
   "source": [
    "x_train = tokenize.texts_to_matrix(docs)"
   ]
  },
  {
   "cell_type": "code",
   "execution_count": 36,
   "metadata": {},
   "outputs": [],
   "source": [
    "y_train = np.concatenate(\n",
    "    (np.full((num_valid_russia), 0), np.full((num_valid_election), 0))\n",
    ")"
   ]
  },
  {
   "cell_type": "code",
   "execution_count": 38,
   "metadata": {},
   "outputs": [
    {
     "name": "stdout",
     "output_type": "stream",
     "text": [
      "(480868, 5000)\n",
      "(480868,)\n"
     ]
    }
   ],
   "source": [
    "print(x_train.shape)\n",
    "print(y_train.shape)"
   ]
  },
  {
   "cell_type": "markdown",
   "metadata": {},
   "source": [
    "We now move to create a model that will learn word embeddings, and then use that model to extract semantic information."
   ]
  },
  {
   "cell_type": "code",
   "execution_count": 47,
   "metadata": {},
   "outputs": [
    {
     "name": "stdout",
     "output_type": "stream",
     "text": [
      "WARNING:tensorflow:From /home/ubuntu/anaconda3/envs/tensorflow_p36/lib/python3.6/site-packages/tensorflow/python/util/deprecation.py:497: calling conv1d (from tensorflow.python.ops.nn_ops) with data_format=NHWC is deprecated and will be removed in a future version.\n",
      "Instructions for updating:\n",
      "`NHWC` for data_format is deprecated, use `NWC` instead\n"
     ]
    }
   ],
   "source": [
    "model = Sequential()\n",
    "model.add(Embedding(vocab_size, 32, input_length=5000))\n",
    "model.add(Conv1D(1, 32))\n",
    "model.o"
   ]
  },
  {
   "cell_type": "code",
   "execution_count": 42,
   "metadata": {},
   "outputs": [
    {
     "name": "stdout",
     "output_type": "stream",
     "text": [
      "(?, 5000, 32)\n"
     ]
    }
   ],
   "source": []
  },
  {
   "cell_type": "code",
   "execution_count": null,
   "metadata": {},
   "outputs": [],
   "source": []
  }
 ],
 "metadata": {
  "kernelspec": {
   "display_name": "Python 3",
   "language": "python",
   "name": "python3"
  },
  "language_info": {
   "codemirror_mode": {
    "name": "ipython",
    "version": 3
   },
   "file_extension": ".py",
   "mimetype": "text/x-python",
   "name": "python",
   "nbconvert_exporter": "python",
   "pygments_lexer": "ipython3",
   "version": "3.6.4"
  }
 },
 "nbformat": 4,
 "nbformat_minor": 2
}
